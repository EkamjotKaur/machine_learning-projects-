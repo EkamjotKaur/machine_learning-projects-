{
 "cells": [
  {
   "cell_type": "code",
   "execution_count": 91,
   "metadata": {},
   "outputs": [],
   "source": [
    "from tkinter import *\n",
    "root=Tk()\n",
    "root.title('MOVIE RATING PROJECT')\n",
    "C=Canvas(bg=\"blue\", height=1366, width=748)\n",
    "C.pack()\n",
    "filename=PhotoImage(file=\"C:\\\\Users\\\\Hp\\\\Desktop\\\\python\\\\movies project\\\\movie.png\")\n",
    "background_label=Label(root, image=filename)\n",
    "background_label.place(x=0, y=0, relwidth=1, relheight=1)\n",
    "frame=Frame(root,bg='#d3b1e3',bd=5)\n",
    "frame.place(relx=0.5,rely=0.1,relwidth=0.75,relheight=0.1,anchor='n')\n",
    "label1=Label(text='KNOW THE MOVIE RATINGS',anchor='center',bg='#d3b1e3',font=200)\n",
    "label1.place(relx=0.2,rely=0.1,relwidth=0.5,relheight=0.1)\n",
    "label2=Label(text='MOVIE NAME',anchor='center',bg='#d3b1e3')\n",
    "label2.place(relx=0.1,rely=0.23,relwidth=0.65,relheight=0.1)\n",
    "entry=Entry(frame,font=40)\n",
    "entry.place(relx=0.8,rely=0.5,relwidth=0.65,relheight=1)\n",
    "button=Button(frame,text='CLICK TO KNOW RATING',bg='#daf2ea',fg='#100c12')\n",
    "button.place(relx=0.69,relheight=1,relwidth=0.3)\n",
    "root.geometry('600x300+120+120')\n",
    "root.mainloop()"
   ]
  },
  {
   "cell_type": "code",
   "execution_count": null,
   "metadata": {},
   "outputs": [],
   "source": []
  },
  {
   "cell_type": "code",
   "execution_count": null,
   "metadata": {},
   "outputs": [],
   "source": []
  }
 ],
 "metadata": {
  "kernelspec": {
   "display_name": "Python 3",
   "language": "python",
   "name": "python3"
  },
  "language_info": {
   "codemirror_mode": {
    "name": "ipython",
    "version": 3
   },
   "file_extension": ".py",
   "mimetype": "text/x-python",
   "name": "python",
   "nbconvert_exporter": "python",
   "pygments_lexer": "ipython3",
   "version": "3.7.3"
  }
 },
 "nbformat": 4,
 "nbformat_minor": 2
}
