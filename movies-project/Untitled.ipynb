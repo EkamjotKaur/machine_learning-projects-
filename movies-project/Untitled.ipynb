{
 "cells": [
  {
   "cell_type": "code",
   "execution_count": 129,
   "metadata": {
    "scrolled": true
   },
   "outputs": [],
   "source": [
    "from tkinter import *\n",
    "root=Tk()\n",
    "root.title('MOVIE RATING PROJECT')\n",
    "C=Canvas(root, height=1366, width=748)\n",
    "C.pack()\n",
    "filename=PhotoImage(file=\"C:\\\\Users\\\\Hp\\\\Desktop\\\\python\\\\movies project\\\\background.png\")\n",
    "background_label=Label(root, image=filename)\n",
    "background_label.place(x=0, y=0, relwidth=1, relheight=1)\n",
    "frame1=Frame(root,bd=2,bg='lightgray')\n",
    "frame1.place(relx=0.5,rely=0.05,relwidth=0.75,relheight=0.7,anchor='n')\n",
    "label1=Label(frame1,text='KNOW THE MOVIE RATINGS',anchor='center',bg='#49bfb7',font=60)\n",
    "label1.place(relx=0.2,rely=0.05,relwidth=0.5,relheight=0.1)\n",
    "label2=Label(frame1,text='MOVIE NAME',anchor='center',bg='#d3b1e3')\n",
    "label2.place(relx=0.2,rely=0.2,relwidth=0.1,relheight=0.1)\n",
    "s1=StringVar()\n",
    "entry1=Entry(frame1)\n",
    "entry1.place(relx=0.35,rely=0.2,relwidth=0.35,relheight=0.1)\n",
    "label3=Label(frame1,text='ACTOR(S) NAME',anchor='center',bg='#d3b1e3')\n",
    "label3.place(relx=0.2,rely=0.35,relwidth=0.1,relheight=0.1)\n",
    "entry2=Entry(frame1)\n",
    "entry2.place(relx=0.35,rely=0.35,relwidth=0.35,relheight=0.1)\n",
    "label4=Label(frame1,text='DIRECTOR(S) NAME',anchor='center',bg='#d3b1e3')\n",
    "label4.place(relx=0.2,rely=0.5,relwidth=0.13,relheight=0.1)\n",
    "entry3=Entry(frame1)\n",
    "entry3.place(relx=0.35,rely=0.5,relwidth=0.35,relheight=0.1)\n",
    "button=Button(frame1,text='CLICK TO KNOW RATING',bg='#dbced5',command=call_me)\n",
    "button.place(relx=0.3,rely=0.65,relheight=0.1,relwidth=0.3)\n",
    "entry4=Entry(frame1,textvariable=s1)\n",
    "entry4.place(relx=0.3,rely=0.8,relheight=0.1,relwidth=0.3)\n",
    "root.geometry('600x300+120+120')\n",
    "root.mainloop()"
   ]
  },
  {
   "cell_type": "code",
   "execution_count": 128,
   "metadata": {},
   "outputs": [],
   "source": [
    "def call_me():\n",
    "    s2=entry1.get()\n",
    "    s3=entry2.get()\n",
    "    s4=entry3.get()\n",
    "    lst=[]\n",
    "    lst=s2.split('|')\n",
    "    lst1=[]\n",
    "    flag=0\n",
    "    for actor_name in lst:\n",
    "        if actor_name in data1.index:\n",
    "            flag=1\n",
    "            lst1.append(data1.normalizedRating[actor_name])\n",
    "        else:\n",
    "            continue\n",
    "    if(flag==0):\n",
    "        lst1.append(float(0))\n",
    "    s=0\n",
    "    for n in lst1:\n",
    "        s=s+n\n",
    "    print(s/len(lst1))"
   ]
  },
  {
   "cell_type": "code",
   "execution_count": null,
   "metadata": {},
   "outputs": [],
   "source": []
  }
 ],
 "metadata": {
  "kernelspec": {
   "display_name": "Python 3",
   "language": "python",
   "name": "python3"
  },
  "language_info": {
   "codemirror_mode": {
    "name": "ipython",
    "version": 3
   },
   "file_extension": ".py",
   "mimetype": "text/x-python",
   "name": "python",
   "nbconvert_exporter": "python",
   "pygments_lexer": "ipython3",
   "version": "3.7.3"
  }
 },
 "nbformat": 4,
 "nbformat_minor": 2
}
